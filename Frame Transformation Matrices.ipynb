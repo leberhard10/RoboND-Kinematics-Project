{
 "cells": [
  {
   "cell_type": "markdown",
   "metadata": {},
   "source": [
    "### Setup DH Parameters"
   ]
  },
  {
   "cell_type": "code",
   "execution_count": 61,
   "metadata": {},
   "outputs": [],
   "source": [
    "from sympy import symbols, cos, sin, pi, simplify\n",
    "from sympy.matrices import Matrix\n",
    "\n",
    "# Create symbols for joint variables\n",
    "q1, q2, q3, q4, q5, q6, q7 = symbols('q1:8')\n",
    "d1, d2, d3, d4, d5, d6, d7 = symbols('d1:8')\n",
    "a0, a1, a2, a3, a4, a5, a6 = symbols('a0:7')\n",
    "alpha0, alpha1, alpha2, alpha3, alpha4, alpha5, alpha6 = symbols('alpha0:7')\n",
    "\n",
    "# DH Parameters\n",
    "s = {alpha0:   0.0, a0: 0.0, \n",
    "     alpha1: -pi/2,          d2: 0.0,  \n",
    "     alpha2:   0.0,          d3: 0.0,\n",
    "     alpha3: -pi/2, \n",
    "     alpha4:  pi/2, a4: 0.0, d5: 0.0,\n",
    "     alpha5: -pi/2, a5: 0.0, d6: 0.0,\n",
    "     alpha6:   0.0, a6: 0.0, \n",
    "     }"
   ]
  },
  {
   "cell_type": "markdown",
   "metadata": {},
   "source": [
    "### Verify Matrix Frames"
   ]
  },
  {
   "cell_type": "code",
   "execution_count": 62,
   "metadata": {},
   "outputs": [
    {
     "name": "stdout",
     "output_type": "stream",
     "text": [
      "Frame 0->1:  Matrix([[cos(q1), -sin(q1), 0, 0.0], [sin(q1), cos(q1), 0, 0], [0, 0, 1, d1], [0, 0, 0, 1]])\n"
     ]
    }
   ],
   "source": [
    "T0_1 = Matrix([[             cos(q1),            -sin(q1),            0,              a0],\n",
    "               [ sin(q1)*cos(alpha0), cos(q1)*cos(alpha0), -sin(alpha0), -sin(alpha0)*d1],\n",
    "               [ sin(q1)*sin(alpha0), cos(q1)*sin(alpha0),  cos(alpha0),  cos(alpha0)*d1],\n",
    "               [                   0,                   0,            0,               1]])\n",
    "T0_1 = T0_1.subs(s)\n",
    "Simplified_T0_1 = simplify(T0_1)\n",
    "\n",
    "print(\"Frame 0->1: \",Simplified_T0_1)"
   ]
  },
  {
   "cell_type": "code",
   "execution_count": 63,
   "metadata": {},
   "outputs": [
    {
     "name": "stdout",
     "output_type": "stream",
     "text": [
      "Frame 1->2:  Matrix([[cos(q2), -sin(q2), 0, a1], [0, 0, 1, 0.0], [-sin(q2), -cos(q2), 0, 0], [0, 0, 0, 1]])\n"
     ]
    }
   ],
   "source": [
    "T1_2 = Matrix([[             cos(q2),            -sin(q2),            0,              a1],\n",
    "               [ sin(q2)*cos(alpha1), cos(q2)*cos(alpha1), -sin(alpha1), -sin(alpha1)*d2],\n",
    "               [ sin(q2)*sin(alpha1), cos(q2)*sin(alpha1),  cos(alpha1),  cos(alpha1)*d2],\n",
    "               [                   0,                   0,            0,               1]])\n",
    "T1_2 = T1_2.subs(s)\n",
    "Simplified_T1_2 = simplify(T1_2)\n",
    "\n",
    "print(\"Frame 1->2: \",Simplified_T1_2)"
   ]
  },
  {
   "cell_type": "code",
   "execution_count": 64,
   "metadata": {},
   "outputs": [
    {
     "name": "stdout",
     "output_type": "stream",
     "text": [
      "Frame 2->3:  Matrix([[cos(q3), -sin(q3), 0, a2], [sin(q3), cos(q3), 0, 0], [0, 0, 1, 0.0], [0, 0, 0, 1]])\n"
     ]
    }
   ],
   "source": [
    "T2_3 = Matrix([[             cos(q3),            -sin(q3),            0,              a2],\n",
    "               [ sin(q3)*cos(alpha2), cos(q3)*cos(alpha2), -sin(alpha2), -sin(alpha2)*d3],\n",
    "               [ sin(q3)*sin(alpha2), cos(q3)*sin(alpha2),  cos(alpha2),  cos(alpha2)*d3],\n",
    "               [                   0,                   0,            0,               1]])\n",
    "T2_3 = T2_3.subs(s)\n",
    "Simplified_T2_3 = simplify(T2_3)\n",
    "\n",
    "print(\"Frame 2->3: \",Simplified_T2_3)"
   ]
  },
  {
   "cell_type": "code",
   "execution_count": 65,
   "metadata": {},
   "outputs": [
    {
     "name": "stdout",
     "output_type": "stream",
     "text": [
      "Frame 3->4:  Matrix([[cos(q4), -sin(q4), 0, a3], [0, 0, 1, d4], [-sin(q4), -cos(q4), 0, 0], [0, 0, 0, 1]])\n"
     ]
    }
   ],
   "source": [
    "T3_4 = Matrix([[             cos(q4),            -sin(q4),            0,              a3],\n",
    "               [ sin(q4)*cos(alpha3), cos(q4)*cos(alpha3), -sin(alpha3), -sin(alpha3)*d4],\n",
    "               [ sin(q4)*sin(alpha3), cos(q4)*sin(alpha3),  cos(alpha3),  cos(alpha3)*d4],\n",
    "               [                   0,                   0,            0,               1]])\n",
    "T3_4 = T3_4.subs(s)\n",
    "Simplified_T3_4 = simplify(T3_4)\n",
    "\n",
    "print(\"Frame 3->4: \",Simplified_T3_4)"
   ]
  },
  {
   "cell_type": "code",
   "execution_count": 66,
   "metadata": {},
   "outputs": [
    {
     "name": "stdout",
     "output_type": "stream",
     "text": [
      "Frame 4->5:  Matrix([[cos(q5), -sin(q5), 0, 0.0], [0, 0, -1, 0], [sin(q5), cos(q5), 0, 0], [0, 0, 0, 1]])\n"
     ]
    }
   ],
   "source": [
    "T4_5 = Matrix([[             cos(q5),            -sin(q5),            0,              a4],\n",
    "               [ sin(q5)*cos(alpha4), cos(q5)*cos(alpha4), -sin(alpha4), -sin(alpha4)*d5],\n",
    "               [ sin(q5)*sin(alpha4), cos(q5)*sin(alpha4),  cos(alpha4),  cos(alpha4)*d5],\n",
    "               [                   0,                   0,            0,               1]])\n",
    "T4_5 = T4_5.subs(s)\n",
    "Simplified_T4_5 = simplify(T4_5)\n",
    "\n",
    "print(\"Frame 4->5: \",Simplified_T4_5)"
   ]
  },
  {
   "cell_type": "code",
   "execution_count": 67,
   "metadata": {},
   "outputs": [
    {
     "name": "stdout",
     "output_type": "stream",
     "text": [
      "Frame 5->6:  Matrix([[cos(q6), -sin(q6), 0, 0.0], [0, 0, 1, 0.0], [-sin(q6), -cos(q6), 0, 0], [0, 0, 0, 1]])\n"
     ]
    }
   ],
   "source": [
    "T5_6 = Matrix([[             cos(q6),            -sin(q6),            0,              a5],\n",
    "               [ sin(q6)*cos(alpha5), cos(q6)*cos(alpha5), -sin(alpha5), -sin(alpha5)*d6],\n",
    "               [ sin(q6)*sin(alpha5), cos(q6)*sin(alpha5),  cos(alpha5),  cos(alpha5)*d6],\n",
    "               [                   0,                   0,            0,               1]])\n",
    "T5_6 = T5_6.subs(s)\n",
    "Simplified_T5_6 = simplify(T5_6)\n",
    "\n",
    "print(\"Frame 5->6: \",Simplified_T5_6)"
   ]
  },
  {
   "cell_type": "code",
   "execution_count": 68,
   "metadata": {},
   "outputs": [
    {
     "name": "stdout",
     "output_type": "stream",
     "text": [
      "Frame 6->7:  Matrix([[cos(q7), -sin(q7), 0, 0.0], [sin(q7), cos(q7), 0, 0], [0, 0, 1, d7], [0, 0, 0, 1]])\n"
     ]
    }
   ],
   "source": [
    "T6_7 = Matrix([[             cos(q7),            -sin(q7),            0,              a6],\n",
    "               [ sin(q7)*cos(alpha6), cos(q7)*cos(alpha6), -sin(alpha6), -sin(alpha6)*d7],\n",
    "               [ sin(q7)*sin(alpha6), cos(q7)*sin(alpha6),  cos(alpha6),  cos(alpha6)*d7],\n",
    "               [                   0,                   0,            0,               1]])\n",
    "T6_7 = T6_7.subs(s)\n",
    "Simplified_T6_7 = simplify(T6_7)\n",
    "\n",
    "print(\"Frame 6->7: \",Simplified_T6_7)"
   ]
  },
  {
   "cell_type": "code",
   "execution_count": null,
   "metadata": {},
   "outputs": [],
   "source": []
  }
 ],
 "metadata": {
  "kernelspec": {
   "display_name": "Python [conda env:RoboND]",
   "language": "python",
   "name": "conda-env-RoboND-py"
  },
  "language_info": {
   "codemirror_mode": {
    "name": "ipython",
    "version": 3
   },
   "file_extension": ".py",
   "mimetype": "text/x-python",
   "name": "python",
   "nbconvert_exporter": "python",
   "pygments_lexer": "ipython3",
   "version": "3.5.2"
  },
  "widgets": {
   "state": {},
   "version": "1.1.2"
  }
 },
 "nbformat": 4,
 "nbformat_minor": 2
}
